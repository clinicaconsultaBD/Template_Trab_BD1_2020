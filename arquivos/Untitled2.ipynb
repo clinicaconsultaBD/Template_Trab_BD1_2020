{
  "nbformat": 4,
  "nbformat_minor": 0,
  "metadata": {
    "colab": {
      "name": "Untitled2.ipynb",
      "provenance": []
    },
    "kernelspec": {
      "name": "python3",
      "display_name": "Python 3"
    }
  },
  "cells": [
    {
      "cell_type": "code",
      "metadata": {
        "id": "lGJrGDAB77Wz",
        "outputId": "1ca9ee47-2fc1-43c2-c898-2dbb746ecdd6",
        "colab": {
          "base_uri": "https://localhost:8080/",
          "height": 297
        }
      },
      "source": [
        "#!pip install --user psycopg2-binary\n",
        "#!pip install --user seaborn\n",
        "#!pip install --user pandas\n",
        "\n",
        "import seaborn as sns\n",
        "import matplotlib.pyplot as plt\n",
        "import pandas as pd\n",
        "import psycopg2\n",
        "\n",
        "conn = psycopg2.connect(host=\"motty.db.elephantsql.com\",database=\"aqdnwobk\", user=\"aqdnwobk\", password=\"HI-ek-MnD7BDYGFKTQQ9pnDB5UJhQX8a\")\n",
        "\n",
        "consulta = pd.read_sql_query(\"\"\"\n",
        "                              SELECT tipo_contato, COUNT(*) as quantidade \n",
        "                              FROM contato GROUP BY tipo_contato\n",
        "                            \"\"\",conn)\n",
        "consulta\n",
        "sns.barplot (x = 'tipo_contato', y = 'quantidade', data = consulta)"
      ],
      "execution_count": 5,
      "outputs": [
        {
          "output_type": "execute_result",
          "data": {
            "text/plain": [
              "<matplotlib.axes._subplots.AxesSubplot at 0x7fb534b96eb8>"
            ]
          },
          "metadata": {
            "tags": []
          },
          "execution_count": 5
        },
        {
          "output_type": "display_data",
          "data": {
            "image/png": "[encoded data removed]",
            "text/plain": [
              "<Figure size 432x288 with 1 Axes>"
            ]
          },
          "metadata": {
            "tags": [],
            "needs_background": "light"
          }
        }
      ]
    },
    {
      "cell_type": "markdown",
      "metadata": {
        "id": "g3iTvIseL7SA"
      },
      "source": [
        ""
      ]
    }
  ]
}