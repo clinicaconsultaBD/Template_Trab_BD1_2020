{
  "nbformat": 4,
  "nbformat_minor": 0,
  "metadata": {
    "colab": {
      "name": "BD1_Relatorios_Clinica.ipynb",
      "provenance": [],
      "collapsed_sections": []
    },
    "kernelspec": {
      "display_name": "Python 3",
      "language": "python",
      "name": "python3"
    },
    "language_info": {
      "codemirror_mode": {
        "name": "ipython",
        "version": 3
      },
      "file_extension": ".py",
      "mimetype": "text/x-python",
      "name": "python",
      "nbconvert_exporter": "python",
      "pygments_lexer": "ipython3",
      "version": "3.6.7"
    }
  },
  "cells": [
    {
      "cell_type": "markdown",
      "metadata": {
        "id": "rltFfCLwpgza"
      },
      "source": [
        "# Conexão com postgres e Relatorios do Sistema"
      ]
    },
    {
      "cell_type": "markdown",
      "metadata": {
        "id": "wxEVO0nFpgzd"
      },
      "source": [
        "## Instalando bibliotecas de acesso ao postgres, manipulação de dados e gráficos"
      ]
    },
    {
      "cell_type": "code",
      "metadata": {
        "id": "aAhAuItwpgzg",
        "scrolled": true
      },
      "source": [
        "!pip install --user psycopg2-binary\n",
        "!pip install --user seaborn\n",
        "!pip install --user pandas"
      ],
      "execution_count": null,
      "outputs": []
    },
    {
      "cell_type": "markdown",
      "metadata": {
        "id": "sopl99YFpgz1"
      },
      "source": [
        "### Importando bibliotecas"
      ]
    },
    {
      "cell_type": "code",
      "metadata": {
        "id": "bLf5p8G2pgz3"
      },
      "source": [
        "import seaborn as sns\n",
        "import matplotlib.pyplot as plt\n",
        "import pandas as pd\n",
        "import psycopg2\n",
        "import numpy as np"
      ],
      "execution_count": 4,
      "outputs": []
    },
    {
      "cell_type": "markdown",
      "metadata": {
        "id": "n7XG0SI8pgz_"
      },
      "source": [
        "### Usando psycopg2 para configurar conexão"
      ]
    },
    {
      "cell_type": "code",
      "metadata": {
        "id": "22N-L3e5pg0B"
      },
      "source": [
        "conn = psycopg2.connect(host=\"motty.db.elephantsql.com\",database=\"aqdnwobk\", user=\"aqdnwobk\", password=\"HI-ek-MnD7BDYGFKTQQ9pnDB5UJhQX8a\")"
      ],
      "execution_count": 5,
      "outputs": []
    },
    {
      "cell_type": "markdown",
      "metadata": {
        "id": "beDE2dKF8JMJ"
      },
      "source": [
        "# Relatórios"
      ]
    },
    {
      "cell_type": "markdown",
      "metadata": {
        "id": "Ebwq9jRp8JMK"
      },
      "source": [
        "## Relatório 1\n",
        "### Objetivo: Obter relatório que mostre qual tipo de contato (email ou telefone) é mais usado e a quantidade de contatos de cada tipo.\n",
        "Código para obtenção do resultado:"
      ]
    },
    {
      "cell_type": "code",
      "metadata": {
        "id": "zj68jY8c8JMK",
        "outputId": "35f56a68-8e5f-4449-b423-5f1517f479c7",
        "colab": {
          "base_uri": "https://localhost:8080/",
          "height": 108
        }
      },
      "source": [
        "consulta = pd.read_sql_query(\"\"\"\n",
        "                              SELECT tipo_contato, COUNT(*) as quantidade \n",
        "                              FROM contato GROUP BY tipo_contato\n",
        "                            \"\"\",conn)\n",
        "consulta"
      ],
      "execution_count": 6,
      "outputs": [
        {
          "output_type": "execute_result",
          "data": {
            "text/html": [
              "<div>\n",
              "<style scoped>\n",
              "    .dataframe tbody tr th:only-of-type {\n",
              "        vertical-align: middle;\n",
              "    }\n",
              "\n",
              "    .dataframe tbody tr th {\n",
              "        vertical-align: top;\n",
              "    }\n",
              "\n",
              "    .dataframe thead th {\n",
              "        text-align: right;\n",
              "    }\n",
              "</style>\n",
              "<table border=\"1\" class=\"dataframe\">\n",
              "  <thead>\n",
              "    <tr style=\"text-align: right;\">\n",
              "      <th></th>\n",
              "      <th>tipo_contato</th>\n",
              "      <th>quantidade</th>\n",
              "    </tr>\n",
              "  </thead>\n",
              "  <tbody>\n",
              "    <tr>\n",
              "      <th>0</th>\n",
              "      <td>telefone</td>\n",
              "      <td>22</td>\n",
              "    </tr>\n",
              "    <tr>\n",
              "      <th>1</th>\n",
              "      <td>email</td>\n",
              "      <td>28</td>\n",
              "    </tr>\n",
              "  </tbody>\n",
              "</table>\n",
              "</div>"
            ],
            "text/plain": [
              "  tipo_contato  quantidade\n",
              "0     telefone          22\n",
              "1        email          28"
            ]
          },
          "metadata": {
            "tags": []
          },
          "execution_count": 6
        }
      ]
    },
    {
      "cell_type": "code",
      "metadata": {
        "id": "GDOdWNW38JMN",
        "outputId": "4bbde0e4-10b1-4d5f-f4c4-4bc62e81ae0a",
        "colab": {
          "base_uri": "https://localhost:8080/",
          "height": 298
        }
      },
      "source": [
        "sns.barplot (x = 'tipo_contato', y = 'quantidade', data = consulta)"
      ],
      "execution_count": 7,
      "outputs": [
        {
          "output_type": "execute_result",
          "data": {
            "text/plain": [
              "<matplotlib.axes._subplots.AxesSubplot at 0x7f76c25c68d0>"
            ]
          },
          "metadata": {
            "tags": []
          },
          "execution_count": 7
        },
        {
          "output_type": "display_data",
          "data": {
            "image/png": "[encoded data removed]",
            "text/plain": [
              "<Figure size 432x288 with 1 Axes>"
            ]
          },
          "metadata": {
            "tags": [],
            "needs_background": "light"
          }
        }
      ]
    },
    {
      "cell_type": "markdown",
      "metadata": {
        "id": "xme0fnSt8JMQ"
      },
      "source": [
        "# =======================================================================\n",
        "## Relatório 2\n",
        "### Objetivo: Obter relatório que mostre quantos funcionários existem em cada cargo\n",
        "Código para obtenção do resultado:"
      ]
    },
    {
      "cell_type": "code",
      "metadata": {
        "id": "Xyik4K5Q8JMQ",
        "outputId": "7b8859cc-fef1-4414-c1a5-41436bc7b10c",
        "colab": {
          "base_uri": "https://localhost:8080/",
          "height": 173
        }
      },
      "source": [
        "consulta = pd.read_sql_query(\"\"\"\n",
        "                              SELECT tipo_funcionario as cargo, COUNT(*) as quantidade\n",
        "                              FROM funcionario GROUP BY tipo_funcionario\n",
        "                            \"\"\",conn)\n",
        "consulta"
      ],
      "execution_count": null,
      "outputs": [
        {
          "output_type": "execute_result",
          "data": {
            "text/html": [
              "<div>\n",
              "<style scoped>\n",
              "    .dataframe tbody tr th:only-of-type {\n",
              "        vertical-align: middle;\n",
              "    }\n",
              "\n",
              "    .dataframe tbody tr th {\n",
              "        vertical-align: top;\n",
              "    }\n",
              "\n",
              "    .dataframe thead th {\n",
              "        text-align: right;\n",
              "    }\n",
              "</style>\n",
              "<table border=\"1\" class=\"dataframe\">\n",
              "  <thead>\n",
              "    <tr style=\"text-align: right;\">\n",
              "      <th></th>\n",
              "      <th>cargo</th>\n",
              "      <th>quantidade</th>\n",
              "    </tr>\n",
              "  </thead>\n",
              "  <tbody>\n",
              "    <tr>\n",
              "      <th>0</th>\n",
              "      <td>Médico</td>\n",
              "      <td>7</td>\n",
              "    </tr>\n",
              "    <tr>\n",
              "      <th>1</th>\n",
              "      <td>Enfermeiro</td>\n",
              "      <td>9</td>\n",
              "    </tr>\n",
              "    <tr>\n",
              "      <th>2</th>\n",
              "      <td>Atendente</td>\n",
              "      <td>4</td>\n",
              "    </tr>\n",
              "    <tr>\n",
              "      <th>3</th>\n",
              "      <td>Faxineira</td>\n",
              "      <td>5</td>\n",
              "    </tr>\n",
              "  </tbody>\n",
              "</table>\n",
              "</div>"
            ],
            "text/plain": [
              "        cargo  quantidade\n",
              "0      Médico           7\n",
              "1  Enfermeiro           9\n",
              "2   Atendente           4\n",
              "3   Faxineira           5"
            ]
          },
          "metadata": {
            "tags": []
          },
          "execution_count": 13
        }
      ]
    },
    {
      "cell_type": "code",
      "metadata": {
        "id": "rEFx4O0P8JMT",
        "outputId": "60fcba98-1bcd-4a05-e59e-710c1e2a2a72",
        "colab": {
          "base_uri": "https://localhost:8080/",
          "height": 305
        }
      },
      "source": [
        "sns.set(font_scale=1.1)\n",
        "sns.barplot (x = 'cargo', y = 'quantidade', data = consulta)"
      ],
      "execution_count": null,
      "outputs": [
        {
          "output_type": "execute_result",
          "data": {
            "text/plain": [
              "<matplotlib.axes._subplots.AxesSubplot at 0x7fa6578458d0>"
            ]
          },
          "metadata": {
            "tags": []
          },
          "execution_count": 16
        },
        {
          "output_type": "display_data",
          "data": {
            "image/png": "[encoded data removed]",
            "text/plain": [
              "<Figure size 432x288 with 1 Axes>"
            ]
          },
          "metadata": {
            "tags": []
          }
        }
      ]
    },
    {
      "cell_type": "markdown",
      "metadata": {
        "id": "gqkxLx8m8JMW"
      },
      "source": [
        "# ============================================================\n",
        "## Relatório 3\n",
        "### Objetivo: Obter relatório que mostre a carga horária média de cada cargo.\n",
        "Código para obtenção do resultado:"
      ]
    },
    {
      "cell_type": "code",
      "metadata": {
        "id": "dhl9IEuU8JMW",
        "outputId": "44bce177-91db-4d9a-a1ed-8455a59bce99",
        "colab": {
          "base_uri": "https://localhost:8080/",
          "height": 173
        }
      },
      "source": [
        "consulta = pd.read_sql_query(\"\"\"\n",
        "                              SELECT tipo_funcionario as cargo, AVG(carga_horaria) as media\n",
        "                              FROM funcionario GROUP BY tipo_funcionario\n",
        "                            \"\"\",conn)\n",
        "consulta"
      ],
      "execution_count": null,
      "outputs": [
        {
          "output_type": "execute_result",
          "data": {
            "text/html": [
              "<div>\n",
              "<style scoped>\n",
              "    .dataframe tbody tr th:only-of-type {\n",
              "        vertical-align: middle;\n",
              "    }\n",
              "\n",
              "    .dataframe tbody tr th {\n",
              "        vertical-align: top;\n",
              "    }\n",
              "\n",
              "    .dataframe thead th {\n",
              "        text-align: right;\n",
              "    }\n",
              "</style>\n",
              "<table border=\"1\" class=\"dataframe\">\n",
              "  <thead>\n",
              "    <tr style=\"text-align: right;\">\n",
              "      <th></th>\n",
              "      <th>cargo</th>\n",
              "      <th>media</th>\n",
              "    </tr>\n",
              "  </thead>\n",
              "  <tbody>\n",
              "    <tr>\n",
              "      <th>0</th>\n",
              "      <td>Médico</td>\n",
              "      <td>11.142857</td>\n",
              "    </tr>\n",
              "    <tr>\n",
              "      <th>1</th>\n",
              "      <td>Enfermeiro</td>\n",
              "      <td>9.111111</td>\n",
              "    </tr>\n",
              "    <tr>\n",
              "      <th>2</th>\n",
              "      <td>Atendente</td>\n",
              "      <td>8.500000</td>\n",
              "    </tr>\n",
              "    <tr>\n",
              "      <th>3</th>\n",
              "      <td>Faxineira</td>\n",
              "      <td>8.000000</td>\n",
              "    </tr>\n",
              "  </tbody>\n",
              "</table>\n",
              "</div>"
            ],
            "text/plain": [
              "        cargo      media\n",
              "0      Médico  11.142857\n",
              "1  Enfermeiro   9.111111\n",
              "2   Atendente   8.500000\n",
              "3   Faxineira   8.000000"
            ]
          },
          "metadata": {
            "tags": []
          },
          "execution_count": 41
        }
      ]
    },
    {
      "cell_type": "code",
      "metadata": {
        "id": "MglDEybv8JMZ",
        "outputId": "58e4de8b-b0e4-4a11-c765-7d21273c423c",
        "colab": {
          "base_uri": "https://localhost:8080/",
          "height": 362
        }
      },
      "source": [
        "sns.catplot(x=\"cargo\", y=\"media\", data=consulta);"
      ],
      "execution_count": null,
      "outputs": [
        {
          "output_type": "display_data",
          "data": {
            "image/png": "[encoded data removed]",
            "text/plain": [
              "<Figure size 360x360 with 1 Axes>"
            ]
          },
          "metadata": {
            "tags": []
          }
        }
      ]
    },
    {
      "cell_type": "markdown",
      "metadata": {
        "id": "Gii_rdI48JMc"
      },
      "source": [
        "# =======================================================================\n",
        "## Relatório 4\n",
        "### Objetivo: Obter relatório que mostre de forma decrescente a quantidade de exames que cada médico está associado.\n",
        "Código para obtenção do resultado:"
      ]
    },
    {
      "cell_type": "code",
      "metadata": {
        "id": "RKlvi9Y_8JMd",
        "outputId": "8783bb7c-900f-4c51-89c0-950d52877aed",
        "colab": {
          "base_uri": "https://localhost:8080/",
          "height": 297
        }
      },
      "source": [
        "consulta = pd.read_sql_query(\"\"\"\n",
        "                              SELECT pessoa.nome_pessoa, COUNT(*) as quantidade FROM funcionario \n",
        "                              INNER JOIN exame ON (exame.id_funcionario = funcionario.id_funcionario) \n",
        "                              INNER JOIN pessoa ON (funcionario.id_pessoa = pessoa.id_pessoa) \n",
        "                              GROUP BY pessoa.nome_pessoa ORDER BY quantidade DESC\n",
        "                            \"\"\",conn)\n",
        "consulta"
      ],
      "execution_count": null,
      "outputs": [
        {
          "output_type": "execute_result",
          "data": {
            "text/html": [
              "<div>\n",
              "<style scoped>\n",
              "    .dataframe tbody tr th:only-of-type {\n",
              "        vertical-align: middle;\n",
              "    }\n",
              "\n",
              "    .dataframe tbody tr th {\n",
              "        vertical-align: top;\n",
              "    }\n",
              "\n",
              "    .dataframe thead th {\n",
              "        text-align: right;\n",
              "    }\n",
              "</style>\n",
              "<table border=\"1\" class=\"dataframe\">\n",
              "  <thead>\n",
              "    <tr style=\"text-align: right;\">\n",
              "      <th></th>\n",
              "      <th>nome_pessoa</th>\n",
              "      <th>quantidade</th>\n",
              "    </tr>\n",
              "  </thead>\n",
              "  <tbody>\n",
              "    <tr>\n",
              "      <th>0</th>\n",
              "      <td>Mariah</td>\n",
              "      <td>5</td>\n",
              "    </tr>\n",
              "    <tr>\n",
              "      <th>1</th>\n",
              "      <td>Larissa</td>\n",
              "      <td>4</td>\n",
              "    </tr>\n",
              "    <tr>\n",
              "      <th>2</th>\n",
              "      <td>Alfredo</td>\n",
              "      <td>4</td>\n",
              "    </tr>\n",
              "    <tr>\n",
              "      <th>3</th>\n",
              "      <td>Mathias</td>\n",
              "      <td>4</td>\n",
              "    </tr>\n",
              "    <tr>\n",
              "      <th>4</th>\n",
              "      <td>Laís</td>\n",
              "      <td>3</td>\n",
              "    </tr>\n",
              "    <tr>\n",
              "      <th>5</th>\n",
              "      <td>Theo</td>\n",
              "      <td>2</td>\n",
              "    </tr>\n",
              "    <tr>\n",
              "      <th>6</th>\n",
              "      <td>Rian</td>\n",
              "      <td>2</td>\n",
              "    </tr>\n",
              "    <tr>\n",
              "      <th>7</th>\n",
              "      <td>Alfredonho</td>\n",
              "      <td>1</td>\n",
              "    </tr>\n",
              "  </tbody>\n",
              "</table>\n",
              "</div>"
            ],
            "text/plain": [
              "  nome_pessoa  quantidade\n",
              "0      Mariah           5\n",
              "1     Larissa           4\n",
              "2     Alfredo           4\n",
              "3     Mathias           4\n",
              "4        Laís           3\n",
              "5        Theo           2\n",
              "6        Rian           2\n",
              "7  Alfredonho           1"
            ]
          },
          "metadata": {
            "tags": []
          },
          "execution_count": 54
        }
      ]
    },
    {
      "cell_type": "code",
      "metadata": {
        "id": "E2az5nPy8JMf",
        "outputId": "b8fe31af-d2df-43ed-f907-cc87f105ba76",
        "colab": {
          "base_uri": "https://localhost:8080/",
          "height": 632
        }
      },
      "source": [
        "plt.figure(figsize=(15,10))\n",
        "sns.set(font_scale=1.2)\n",
        "sns.barplot (x = 'nome_pessoa', y = 'quantidade', data = consulta)"
      ],
      "execution_count": null,
      "outputs": [
        {
          "output_type": "execute_result",
          "data": {
            "text/plain": [
              "<matplotlib.axes._subplots.AxesSubplot at 0x7fa652f68b38>"
            ]
          },
          "metadata": {
            "tags": []
          },
          "execution_count": 55
        },
        {
          "output_type": "display_data",
          "data": {
            "image/png": "[encoded data removed]",
            "text/plain": [
              "<Figure size 1080x720 with 1 Axes>"
            ]
          },
          "metadata": {
            "tags": []
          }
        }
      ]
    },
    {
      "cell_type": "markdown",
      "metadata": {
        "id": "_TcPkAou8JMi"
      },
      "source": [
        "# =======================================================================\n",
        "## Relatório 5\n",
        "### Objetivo: Obter relatório que mostre quando exames temos na categoria SANGUE e COVID.\n",
        "Código para obtenção do resultado:"
      ]
    },
    {
      "cell_type": "code",
      "metadata": {
        "id": "403r-krF8JMi",
        "outputId": "addf90eb-f703-4d2b-fb69-67398dda60dc",
        "colab": {
          "base_uri": "https://localhost:8080/",
          "height": 108
        }
      },
      "source": [
        "consulta = pd.read_sql_query(\"\"\"\n",
        "                              SELECT tipo_exame, count(tipo_exame) as quantidade FROM exame GROUP BY tipo_exame\n",
        "                            \"\"\",conn)\n",
        "consulta"
      ],
      "execution_count": 9,
      "outputs": [
        {
          "output_type": "execute_result",
          "data": {
            "text/html": [
              "<div>\n",
              "<style scoped>\n",
              "    .dataframe tbody tr th:only-of-type {\n",
              "        vertical-align: middle;\n",
              "    }\n",
              "\n",
              "    .dataframe tbody tr th {\n",
              "        vertical-align: top;\n",
              "    }\n",
              "\n",
              "    .dataframe thead th {\n",
              "        text-align: right;\n",
              "    }\n",
              "</style>\n",
              "<table border=\"1\" class=\"dataframe\">\n",
              "  <thead>\n",
              "    <tr style=\"text-align: right;\">\n",
              "      <th></th>\n",
              "      <th>tipo_exame</th>\n",
              "      <th>quantidade</th>\n",
              "    </tr>\n",
              "  </thead>\n",
              "  <tbody>\n",
              "    <tr>\n",
              "      <th>0</th>\n",
              "      <td>COVID</td>\n",
              "      <td>15</td>\n",
              "    </tr>\n",
              "    <tr>\n",
              "      <th>1</th>\n",
              "      <td>SANGUE</td>\n",
              "      <td>10</td>\n",
              "    </tr>\n",
              "  </tbody>\n",
              "</table>\n",
              "</div>"
            ],
            "text/plain": [
              "  tipo_exame  quantidade\n",
              "0      COVID          15\n",
              "1     SANGUE          10"
            ]
          },
          "metadata": {
            "tags": []
          },
          "execution_count": 9
        }
      ]
    },
    {
      "cell_type": "code",
      "metadata": {
        "id": "-yqR4B1S-Tk7",
        "outputId": "01cea56c-6335-4282-c338-f205851b12f5",
        "colab": {
          "base_uri": "https://localhost:8080/",
          "height": 298
        }
      },
      "source": [
        "sns.barplot (x = 'tipo_exame', y = 'quantidade', data = consulta)\n"
      ],
      "execution_count": 10,
      "outputs": [
        {
          "output_type": "execute_result",
          "data": {
            "text/plain": [
              "<matplotlib.axes._subplots.AxesSubplot at 0x7f76c24a1828>"
            ]
          },
          "metadata": {
            "tags": []
          },
          "execution_count": 10
        },
        {
          "output_type": "display_data",
          "data": {
            "image/png": "[encoded data removed]",
            "text/plain": [
              "<Figure size 432x288 with 1 Axes>"
            ]
          },
          "metadata": {
            "tags": [],
            "needs_background": "light"
          }
        }
      ]
    }
  ]
}